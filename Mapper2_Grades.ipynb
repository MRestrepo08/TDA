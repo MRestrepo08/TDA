{
 "cells": [
  {
   "cell_type": "code",
   "execution_count": 1,
   "metadata": {},
   "outputs": [],
   "source": [
    "#pip install pandas"
   ]
  },
  {
   "cell_type": "code",
   "execution_count": 2,
   "metadata": {
    "id": "v8qq9gEeMfDa"
   },
   "outputs": [],
   "source": [
    "import pandas as pd\n",
    "import numpy as np\n",
    "import matplotlib.pyplot as plt\n",
    "import matplotlib.gridspec as gridspec"
   ]
  },
  {
   "cell_type": "code",
   "execution_count": 3,
   "metadata": {},
   "outputs": [],
   "source": [
    "import sys\n",
    "try:\n",
    "    import pandas as pd\n",
    "except ImportError as e:\n",
    "    print(\"pandas is required for this example. Please install with conda or pip  and then try again.\")\n",
    "    sys.exit()\n",
    "\n",
    "import sklearn\n",
    "from sklearn import ensemble\n",
    "import kmapper as km\n",
    "from kmapper.plotlyviz import *\n",
    "from sklearn.decomposition import PCA\n",
    "\n",
    "import warnings\n",
    "warnings.filterwarnings(\"ignore\")"
   ]
  },
  {
   "cell_type": "code",
   "execution_count": 4,
   "metadata": {},
   "outputs": [],
   "source": [
    "import plotly.graph_objs as go\n",
    "from ipywidgets import (HBox, VBox)"
   ]
  },
  {
   "cell_type": "code",
   "execution_count": 5,
   "metadata": {
    "colab": {
     "base_uri": "https://localhost:8080/"
    },
    "id": "hhFJx0ffMocf",
    "outputId": "861d7f31-1548-46e8-ae1a-6874210cc0fd"
   },
   "outputs": [],
   "source": [
    "#pip install ripser"
   ]
  },
  {
   "cell_type": "code",
   "execution_count": 6,
   "metadata": {
    "colab": {
     "base_uri": "https://localhost:8080/"
    },
    "id": "8X6as1zGkJ2N",
    "outputId": "80c93e58-4e3d-4a2c-f868-cb6f668bf825"
   },
   "outputs": [],
   "source": [
    "#pip install teaspoon"
   ]
  },
  {
   "cell_type": "code",
   "execution_count": 7,
   "metadata": {
    "id": "BnwHt9RJM6VP"
   },
   "outputs": [],
   "source": [
    "%matplotlib inline"
   ]
  },
  {
   "cell_type": "code",
   "execution_count": 8,
   "metadata": {},
   "outputs": [],
   "source": [
    "#Colors\n",
    "pl_brewer = [[0.0, '#006837'],\n",
    "             [0.1, '#1a9850'],\n",
    "             [0.2, '#66bd63'],\n",
    "             [0.3, '#a6d96a'],\n",
    "             [0.4, '#d9ef8b'],\n",
    "             [0.5, '#ffffbf'],\n",
    "             [0.6, '#fee08b'],\n",
    "             [0.7, '#fdae61'],\n",
    "             [0.8, '#f46d43'],\n",
    "             [0.9, '#d73027'],\n",
    "             [1.0, '#a50026']]"
   ]
  },
  {
   "cell_type": "code",
   "execution_count": 9,
   "metadata": {},
   "outputs": [],
   "source": [
    "bgcolor = 'rgba(10,10,10, 0.9)'\n",
    "y_gridcolor = 'rgb(150,150,150)'# on a black background the gridlines are set on  grey"
   ]
  },
  {
   "cell_type": "code",
   "execution_count": 10,
   "metadata": {
    "id": "0QexpUBiM-tn"
   },
   "outputs": [],
   "source": [
    "df1 = pd.read_excel('19_1_1.xlsx', sheet_name='Hoja_1')\n",
    "#df2 = pd.read_excel('20_1_0.xlsx', sheet_name='Hoja_1')\n",
    "#df3 = pd.read_excel('21_1_1.xlsx', sheet_name='Hoja_1')"
   ]
  },
  {
   "cell_type": "code",
   "execution_count": 11,
   "metadata": {
    "id": "40D42OLHd-hu"
   },
   "outputs": [],
   "source": [
    "asignaturas2 = {'ALGEBRA LINEAL' : 1,\n",
    "'BIOMATEMATICAS I' : 1,\n",
    "'BIOMATEMATICAS II' : 1,\n",
    "'CALCULO DIFERENCIAL' : 2,\n",
    "'CALCULO DIFERENCIAL E INTEGRAL' : 2,\n",
    "'CALCULO INTEGRAL' : 2,\n",
    "'CALCULO VECTORIAL' : 2,\n",
    "'DIFERENTIAL CALCULUS' : 2,\n",
    "'ECUACIONES DIFERENCIALES' : 2,\n",
    "'ESTADÍSTICA' : 3,\n",
    "'ESTADÍSTICA DESCRIPTIVA' : 3,\n",
    "'ESTADÍSTICA I' : 3,\n",
    "'ESTADÍSTICA II' : 3,\n",
    "'ESTADÍSTICA III' : 3,\n",
    "'ESTADÍSTICA INFERENCIAL' : 3,\n",
    "'INVESTIGACION DE OPERACIONES' : 4,\n",
    "'LÓGICA Y RAZONAMIENTO MATEMÁTICO' : 1,\n",
    "'MATEMATICAS AVANZADAS' : 4,\n",
    "'MATEMATICAS BASICAS' : 1,\n",
    "'MATEMATICAS ESPECIALES' : 4,\n",
    "'MATEMÁTICAS I' : 1,\n",
    "'MATEMÁTICAS II' : 1,\n",
    "'MATEMÁTICAS III' : 2,\n",
    "'METODOS MATEMATICOS' : 4,\n",
    "'MÉTODOS NUMÉRICOS' : 4,\n",
    "'MODELOS MATEMATICOS DE ADMON.' : 1,\n",
    "'PROBABILIDAD Y ESTADISTICA' : 3,\n",
    "'SISTEMAS LINEALES': 1}"
   ]
  },
  {
   "cell_type": "code",
   "execution_count": 12,
   "metadata": {
    "id": "kgJ4YdvOeDD9"
   },
   "outputs": [],
   "source": [
    "df1['NOMBRE_ASIGNATURA'] = df1['NOMBRE_ASIGNATURA'].map(asignaturas2)"
   ]
  },
  {
   "cell_type": "code",
   "execution_count": 14,
   "metadata": {},
   "outputs": [
    {
     "data": {
      "text/html": [
       "<div>\n",
       "<style scoped>\n",
       "    .dataframe tbody tr th:only-of-type {\n",
       "        vertical-align: middle;\n",
       "    }\n",
       "\n",
       "    .dataframe tbody tr th {\n",
       "        vertical-align: top;\n",
       "    }\n",
       "\n",
       "    .dataframe thead th {\n",
       "        text-align: right;\n",
       "    }\n",
       "</style>\n",
       "<table border=\"1\" class=\"dataframe\">\n",
       "  <thead>\n",
       "    <tr style=\"text-align: right;\">\n",
       "      <th></th>\n",
       "      <th>Unnamed: 0</th>\n",
       "      <th>NOTA</th>\n",
       "      <th>ESTAAPROCALI</th>\n",
       "      <th>NUMEFALLPARC</th>\n",
       "      <th>CODIGO_ESTUDIANTE</th>\n",
       "      <th>NOMBRE_ASIGNATURA</th>\n",
       "      <th>NIVEL_EN_PLAN</th>\n",
       "      <th>RANGO</th>\n",
       "      <th>FORMACION</th>\n",
       "      <th>CONTRATO</th>\n",
       "      <th>ESCALAFON</th>\n",
       "    </tr>\n",
       "  </thead>\n",
       "  <tbody>\n",
       "    <tr>\n",
       "      <th>0</th>\n",
       "      <td>0</td>\n",
       "      <td>250</td>\n",
       "      <td>0</td>\n",
       "      <td>0</td>\n",
       "      <td>230</td>\n",
       "      <td>3</td>\n",
       "      <td>4</td>\n",
       "      <td>2</td>\n",
       "      <td>1</td>\n",
       "      <td>1</td>\n",
       "      <td>2</td>\n",
       "    </tr>\n",
       "    <tr>\n",
       "      <th>1</th>\n",
       "      <td>1</td>\n",
       "      <td>220</td>\n",
       "      <td>0</td>\n",
       "      <td>0</td>\n",
       "      <td>902</td>\n",
       "      <td>3</td>\n",
       "      <td>4</td>\n",
       "      <td>2</td>\n",
       "      <td>1</td>\n",
       "      <td>1</td>\n",
       "      <td>4</td>\n",
       "    </tr>\n",
       "    <tr>\n",
       "      <th>2</th>\n",
       "      <td>2</td>\n",
       "      <td>440</td>\n",
       "      <td>1</td>\n",
       "      <td>3</td>\n",
       "      <td>210</td>\n",
       "      <td>3</td>\n",
       "      <td>4</td>\n",
       "      <td>4</td>\n",
       "      <td>1</td>\n",
       "      <td>1</td>\n",
       "      <td>3</td>\n",
       "    </tr>\n",
       "    <tr>\n",
       "      <th>3</th>\n",
       "      <td>3</td>\n",
       "      <td>310</td>\n",
       "      <td>1</td>\n",
       "      <td>0</td>\n",
       "      <td>210</td>\n",
       "      <td>2</td>\n",
       "      <td>3</td>\n",
       "      <td>3</td>\n",
       "      <td>1</td>\n",
       "      <td>1</td>\n",
       "      <td>3</td>\n",
       "    </tr>\n",
       "    <tr>\n",
       "      <th>4</th>\n",
       "      <td>4</td>\n",
       "      <td>256</td>\n",
       "      <td>0</td>\n",
       "      <td>0</td>\n",
       "      <td>290</td>\n",
       "      <td>4</td>\n",
       "      <td>6</td>\n",
       "      <td>2</td>\n",
       "      <td>1</td>\n",
       "      <td>1</td>\n",
       "      <td>2</td>\n",
       "    </tr>\n",
       "    <tr>\n",
       "      <th>...</th>\n",
       "      <td>...</td>\n",
       "      <td>...</td>\n",
       "      <td>...</td>\n",
       "      <td>...</td>\n",
       "      <td>...</td>\n",
       "      <td>...</td>\n",
       "      <td>...</td>\n",
       "      <td>...</td>\n",
       "      <td>...</td>\n",
       "      <td>...</td>\n",
       "      <td>...</td>\n",
       "    </tr>\n",
       "    <tr>\n",
       "      <th>8212</th>\n",
       "      <td>8212</td>\n",
       "      <td>360</td>\n",
       "      <td>1</td>\n",
       "      <td>0</td>\n",
       "      <td>330</td>\n",
       "      <td>1</td>\n",
       "      <td>2</td>\n",
       "      <td>3</td>\n",
       "      <td>1</td>\n",
       "      <td>1</td>\n",
       "      <td>3</td>\n",
       "    </tr>\n",
       "    <tr>\n",
       "      <th>8213</th>\n",
       "      <td>8213</td>\n",
       "      <td>228</td>\n",
       "      <td>0</td>\n",
       "      <td>0</td>\n",
       "      <td>330</td>\n",
       "      <td>2</td>\n",
       "      <td>5</td>\n",
       "      <td>2</td>\n",
       "      <td>1</td>\n",
       "      <td>1</td>\n",
       "      <td>3</td>\n",
       "    </tr>\n",
       "    <tr>\n",
       "      <th>8214</th>\n",
       "      <td>8214</td>\n",
       "      <td>342</td>\n",
       "      <td>1</td>\n",
       "      <td>0</td>\n",
       "      <td>330</td>\n",
       "      <td>4</td>\n",
       "      <td>6</td>\n",
       "      <td>3</td>\n",
       "      <td>1</td>\n",
       "      <td>1</td>\n",
       "      <td>2</td>\n",
       "    </tr>\n",
       "    <tr>\n",
       "      <th>8215</th>\n",
       "      <td>8215</td>\n",
       "      <td>398</td>\n",
       "      <td>1</td>\n",
       "      <td>0</td>\n",
       "      <td>330</td>\n",
       "      <td>1</td>\n",
       "      <td>2</td>\n",
       "      <td>3</td>\n",
       "      <td>1</td>\n",
       "      <td>1</td>\n",
       "      <td>3</td>\n",
       "    </tr>\n",
       "    <tr>\n",
       "      <th>8216</th>\n",
       "      <td>8216</td>\n",
       "      <td>320</td>\n",
       "      <td>1</td>\n",
       "      <td>0</td>\n",
       "      <td>330</td>\n",
       "      <td>2</td>\n",
       "      <td>5</td>\n",
       "      <td>3</td>\n",
       "      <td>1</td>\n",
       "      <td>2</td>\n",
       "      <td>3</td>\n",
       "    </tr>\n",
       "  </tbody>\n",
       "</table>\n",
       "<p>8217 rows × 11 columns</p>\n",
       "</div>"
      ],
      "text/plain": [
       "      Unnamed: 0  NOTA  ESTAAPROCALI  NUMEFALLPARC  CODIGO_ESTUDIANTE  \\\n",
       "0              0   250             0             0                230   \n",
       "1              1   220             0             0                902   \n",
       "2              2   440             1             3                210   \n",
       "3              3   310             1             0                210   \n",
       "4              4   256             0             0                290   \n",
       "...          ...   ...           ...           ...                ...   \n",
       "8212        8212   360             1             0                330   \n",
       "8213        8213   228             0             0                330   \n",
       "8214        8214   342             1             0                330   \n",
       "8215        8215   398             1             0                330   \n",
       "8216        8216   320             1             0                330   \n",
       "\n",
       "      NOMBRE_ASIGNATURA  NIVEL_EN_PLAN  RANGO  FORMACION  CONTRATO  ESCALAFON  \n",
       "0                     3              4      2          1         1          2  \n",
       "1                     3              4      2          1         1          4  \n",
       "2                     3              4      4          1         1          3  \n",
       "3                     2              3      3          1         1          3  \n",
       "4                     4              6      2          1         1          2  \n",
       "...                 ...            ...    ...        ...       ...        ...  \n",
       "8212                  1              2      3          1         1          3  \n",
       "8213                  2              5      2          1         1          3  \n",
       "8214                  4              6      3          1         1          2  \n",
       "8215                  1              2      3          1         1          3  \n",
       "8216                  2              5      3          1         2          3  \n",
       "\n",
       "[8217 rows x 11 columns]"
      ]
     },
     "execution_count": 14,
     "metadata": {},
     "output_type": "execute_result"
    }
   ],
   "source": [
    "datos = df1\n",
    "datos"
   ]
  },
  {
   "cell_type": "code",
   "execution_count": 15,
   "metadata": {},
   "outputs": [],
   "source": [
    "feature_names = [c for c in datos.columns if c not in [\"Unnamed: 0\",'ESTAAPROCALI','RANGO','NIVEL_EN_PLAN']]\n",
    "X = np.array(datos[feature_names].fillna(0))\n",
    "y = np.array(datos[\"ESTAAPROCALI\"])\n",
    "z = np.array(datos['FORMACION'])"
   ]
  },
  {
   "cell_type": "code",
   "execution_count": 16,
   "metadata": {},
   "outputs": [
    {
     "data": {
      "text/plain": [
       "FORMACION\n",
       "0       2\n",
       "1    7124\n",
       "2    1091\n",
       "dtype: int64"
      ]
     },
     "execution_count": 16,
     "metadata": {},
     "output_type": "execute_result"
    }
   ],
   "source": [
    "datos.pivot_table(index = ['FORMACION'], aggfunc ='size')"
   ]
  },
  {
   "cell_type": "code",
   "execution_count": 17,
   "metadata": {},
   "outputs": [
    {
     "data": {
      "text/plain": [
       "ESTAAPROCALI\n",
       "0    3068\n",
       "1    5149\n",
       "dtype: int64"
      ]
     },
     "execution_count": 17,
     "metadata": {},
     "output_type": "execute_result"
    }
   ],
   "source": [
    "datos.pivot_table(index = ['ESTAAPROCALI'], aggfunc ='size')"
   ]
  },
  {
   "cell_type": "code",
   "execution_count": 18,
   "metadata": {},
   "outputs": [],
   "source": [
    "# Create a 1-D lens with PCA-projection\n",
    "mapper = km.KeplerMapper(verbose=0)\n",
    "lens1 = mapper.fit_transform(X, projection=\"l2norm\")\n",
    "lens2 = mapper.fit_transform(X, projection=PCA(n_components=1))\n",
    "\n",
    "scomplex = mapper.map(lens2,\n",
    "                      X,\n",
    "                      cover=km.Cover(n_cubes = 8,\n",
    "                                     perc_overlap = 0.6),\n",
    "                      clusterer=sklearn.cluster.KMeans(n_clusters=2,\n",
    "                                                       random_state=3471))"
   ]
  },
  {
   "cell_type": "code",
   "execution_count": 19,
   "metadata": {},
   "outputs": [],
   "source": [
    "#color_values according to z attribute\n",
    "color_values = z - z.min()\n",
    "my_colorscale = pl_brewer\n",
    "kmgraph,  mapper_summary, colorf_distribution = get_mapper_graph(scomplex,\n",
    "                                                                 color_values,\n",
    "                                                                 color_function_name='Distance to x-min',\n",
    "                                                                 colorscale=my_colorscale)\n",
    "\n",
    "# assign to node['custom_tooltips']  the node label (0 for benign, 1 for malignant)\n",
    "for node in kmgraph['nodes']:\n",
    "    node['custom_tooltips'] = y[scomplex['nodes'][node['name']]]"
   ]
  },
  {
   "cell_type": "code",
   "execution_count": 20,
   "metadata": {},
   "outputs": [],
   "source": [
    "plotly_graph_data = plotly_graph(kmgraph, graph_layout='fr', colorscale=my_colorscale,\n",
    "                                 factor_size=2.5, edge_linewidth=0.5)\n",
    "layout = plot_layout(title='Topological network representing <br>  Grades dataset for PCA',\n",
    "                     width=600, height=550,\n",
    "                     annotation_text=get_kmgraph_meta(mapper_summary),\n",
    "                     bgcolor=bgcolor)\n",
    "\n",
    "fw_graph = go.FigureWidget(data=plotly_graph_data, layout=layout)\n",
    "fw_hist = node_hist_fig(colorf_distribution, bgcolor=bgcolor,\n",
    "                        y_gridcolor=y_gridcolor)\n",
    "fw_summary = summary_fig(mapper_summary, height=300)\n",
    "dashboard = hovering_widgets(kmgraph,\n",
    "                             fw_graph,\n",
    "                             ctooltips=True, # ctooltips = True, because we assigned a label to each\n",
    "                                             #cluster member\n",
    "                             bgcolor=bgcolor,\n",
    "                             y_gridcolor=y_gridcolor,\n",
    "                             member_textbox_width=600)\n",
    "\n",
    "#Update the fw_graph colorbar, setting its title:\n",
    "\n",
    "fw_graph.data[1].marker.colorbar.title = 'dist to<br>x-min'"
   ]
  },
  {
   "cell_type": "code",
   "execution_count": 21,
   "metadata": {},
   "outputs": [
    {
     "data": {
      "application/vnd.jupyter.widget-view+json": {
       "model_id": "845236a17ef843e981cef0b36c708e90",
       "version_major": 2,
       "version_minor": 0
      },
      "text/plain": [
       "VBox(children=(FigureWidget({\n",
       "    'data': [{'hoverinfo': 'none',\n",
       "              'line': {'color': 'rgb(180,180,…"
      ]
     },
     "metadata": {},
     "output_type": "display_data"
    }
   ],
   "source": [
    "VBox([fw_graph, HBox([fw_summary, fw_hist])])"
   ]
  },
  {
   "cell_type": "code",
   "execution_count": 22,
   "metadata": {},
   "outputs": [
    {
     "data": {
      "application/vnd.jupyter.widget-view+json": {
       "model_id": "24c5ede31c1b482aabc518eb3890ff6b",
       "version_major": 2,
       "version_minor": 0
      },
      "text/plain": [
       "VBox(children=(HBox(children=(FigureWidget({\n",
       "    'data': [{'hoverinfo': 'none',\n",
       "              'line': {'color'…"
      ]
     },
     "metadata": {},
     "output_type": "display_data"
    }
   ],
   "source": [
    "dashboard"
   ]
  },
  {
   "cell_type": "code",
   "execution_count": 23,
   "metadata": {},
   "outputs": [],
   "source": [
    "#Selecting the a cluster of a particular cube"
   ]
  },
  {
   "cell_type": "code",
   "execution_count": 24,
   "metadata": {},
   "outputs": [],
   "source": [
    "dict = scomplex['nodes']\n",
    "list2 = dict['cube4_cluster0']"
   ]
  },
  {
   "cell_type": "code",
   "execution_count": 25,
   "metadata": {},
   "outputs": [],
   "source": [
    "data1=datos.iloc[list2,:]"
   ]
  },
  {
   "cell_type": "code",
   "execution_count": 26,
   "metadata": {},
   "outputs": [
    {
     "data": {
      "text/html": [
       "<div>\n",
       "<style scoped>\n",
       "    .dataframe tbody tr th:only-of-type {\n",
       "        vertical-align: middle;\n",
       "    }\n",
       "\n",
       "    .dataframe tbody tr th {\n",
       "        vertical-align: top;\n",
       "    }\n",
       "\n",
       "    .dataframe thead th {\n",
       "        text-align: right;\n",
       "    }\n",
       "</style>\n",
       "<table border=\"1\" class=\"dataframe\">\n",
       "  <thead>\n",
       "    <tr style=\"text-align: right;\">\n",
       "      <th></th>\n",
       "      <th>Unnamed: 0</th>\n",
       "      <th>NOTA</th>\n",
       "      <th>ESTAAPROCALI</th>\n",
       "      <th>NUMEFALLPARC</th>\n",
       "      <th>CODIGO_ESTUDIANTE</th>\n",
       "      <th>NOMBRE_ASIGNATURA</th>\n",
       "      <th>NIVEL_EN_PLAN</th>\n",
       "      <th>RANGO</th>\n",
       "      <th>FORMACION</th>\n",
       "      <th>CONTRATO</th>\n",
       "      <th>ESCALAFON</th>\n",
       "    </tr>\n",
       "  </thead>\n",
       "  <tbody>\n",
       "    <tr>\n",
       "      <th>15</th>\n",
       "      <td>15</td>\n",
       "      <td>300</td>\n",
       "      <td>1</td>\n",
       "      <td>0</td>\n",
       "      <td>460</td>\n",
       "      <td>2</td>\n",
       "      <td>3</td>\n",
       "      <td>3</td>\n",
       "      <td>1</td>\n",
       "      <td>1</td>\n",
       "      <td>3</td>\n",
       "    </tr>\n",
       "    <tr>\n",
       "      <th>21</th>\n",
       "      <td>21</td>\n",
       "      <td>260</td>\n",
       "      <td>0</td>\n",
       "      <td>0</td>\n",
       "      <td>550</td>\n",
       "      <td>1</td>\n",
       "      <td>2</td>\n",
       "      <td>2</td>\n",
       "      <td>1</td>\n",
       "      <td>1</td>\n",
       "      <td>2</td>\n",
       "    </tr>\n",
       "    <tr>\n",
       "      <th>22</th>\n",
       "      <td>22</td>\n",
       "      <td>310</td>\n",
       "      <td>1</td>\n",
       "      <td>0</td>\n",
       "      <td>470</td>\n",
       "      <td>1</td>\n",
       "      <td>2</td>\n",
       "      <td>3</td>\n",
       "      <td>1</td>\n",
       "      <td>1</td>\n",
       "      <td>3</td>\n",
       "    </tr>\n",
       "    <tr>\n",
       "      <th>30</th>\n",
       "      <td>30</td>\n",
       "      <td>250</td>\n",
       "      <td>0</td>\n",
       "      <td>0</td>\n",
       "      <td>600</td>\n",
       "      <td>4</td>\n",
       "      <td>6</td>\n",
       "      <td>2</td>\n",
       "      <td>1</td>\n",
       "      <td>1</td>\n",
       "      <td>3</td>\n",
       "    </tr>\n",
       "    <tr>\n",
       "      <th>54</th>\n",
       "      <td>54</td>\n",
       "      <td>160</td>\n",
       "      <td>0</td>\n",
       "      <td>0</td>\n",
       "      <td>600</td>\n",
       "      <td>4</td>\n",
       "      <td>6</td>\n",
       "      <td>1</td>\n",
       "      <td>1</td>\n",
       "      <td>1</td>\n",
       "      <td>2</td>\n",
       "    </tr>\n",
       "    <tr>\n",
       "      <th>...</th>\n",
       "      <td>...</td>\n",
       "      <td>...</td>\n",
       "      <td>...</td>\n",
       "      <td>...</td>\n",
       "      <td>...</td>\n",
       "      <td>...</td>\n",
       "      <td>...</td>\n",
       "      <td>...</td>\n",
       "      <td>...</td>\n",
       "      <td>...</td>\n",
       "      <td>...</td>\n",
       "    </tr>\n",
       "    <tr>\n",
       "      <th>8185</th>\n",
       "      <td>8185</td>\n",
       "      <td>239</td>\n",
       "      <td>0</td>\n",
       "      <td>0</td>\n",
       "      <td>600</td>\n",
       "      <td>1</td>\n",
       "      <td>1</td>\n",
       "      <td>2</td>\n",
       "      <td>1</td>\n",
       "      <td>1</td>\n",
       "      <td>3</td>\n",
       "    </tr>\n",
       "    <tr>\n",
       "      <th>8188</th>\n",
       "      <td>8188</td>\n",
       "      <td>190</td>\n",
       "      <td>0</td>\n",
       "      <td>2</td>\n",
       "      <td>580</td>\n",
       "      <td>1</td>\n",
       "      <td>1</td>\n",
       "      <td>1</td>\n",
       "      <td>1</td>\n",
       "      <td>1</td>\n",
       "      <td>3</td>\n",
       "    </tr>\n",
       "    <tr>\n",
       "      <th>8190</th>\n",
       "      <td>8190</td>\n",
       "      <td>230</td>\n",
       "      <td>0</td>\n",
       "      <td>0</td>\n",
       "      <td>540</td>\n",
       "      <td>1</td>\n",
       "      <td>1</td>\n",
       "      <td>2</td>\n",
       "      <td>1</td>\n",
       "      <td>1</td>\n",
       "      <td>2</td>\n",
       "    </tr>\n",
       "    <tr>\n",
       "      <th>8207</th>\n",
       "      <td>8207</td>\n",
       "      <td>110</td>\n",
       "      <td>0</td>\n",
       "      <td>2</td>\n",
       "      <td>540</td>\n",
       "      <td>1</td>\n",
       "      <td>1</td>\n",
       "      <td>1</td>\n",
       "      <td>1</td>\n",
       "      <td>1</td>\n",
       "      <td>2</td>\n",
       "    </tr>\n",
       "    <tr>\n",
       "      <th>8208</th>\n",
       "      <td>8208</td>\n",
       "      <td>200</td>\n",
       "      <td>0</td>\n",
       "      <td>0</td>\n",
       "      <td>460</td>\n",
       "      <td>1</td>\n",
       "      <td>1</td>\n",
       "      <td>2</td>\n",
       "      <td>1</td>\n",
       "      <td>1</td>\n",
       "      <td>3</td>\n",
       "    </tr>\n",
       "  </tbody>\n",
       "</table>\n",
       "<p>1357 rows × 11 columns</p>\n",
       "</div>"
      ],
      "text/plain": [
       "      Unnamed: 0  NOTA  ESTAAPROCALI  NUMEFALLPARC  CODIGO_ESTUDIANTE  \\\n",
       "15            15   300             1             0                460   \n",
       "21            21   260             0             0                550   \n",
       "22            22   310             1             0                470   \n",
       "30            30   250             0             0                600   \n",
       "54            54   160             0             0                600   \n",
       "...          ...   ...           ...           ...                ...   \n",
       "8185        8185   239             0             0                600   \n",
       "8188        8188   190             0             2                580   \n",
       "8190        8190   230             0             0                540   \n",
       "8207        8207   110             0             2                540   \n",
       "8208        8208   200             0             0                460   \n",
       "\n",
       "      NOMBRE_ASIGNATURA  NIVEL_EN_PLAN  RANGO  FORMACION  CONTRATO  ESCALAFON  \n",
       "15                    2              3      3          1         1          3  \n",
       "21                    1              2      2          1         1          2  \n",
       "22                    1              2      3          1         1          3  \n",
       "30                    4              6      2          1         1          3  \n",
       "54                    4              6      1          1         1          2  \n",
       "...                 ...            ...    ...        ...       ...        ...  \n",
       "8185                  1              1      2          1         1          3  \n",
       "8188                  1              1      1          1         1          3  \n",
       "8190                  1              1      2          1         1          2  \n",
       "8207                  1              1      1          1         1          2  \n",
       "8208                  1              1      2          1         1          3  \n",
       "\n",
       "[1357 rows x 11 columns]"
      ]
     },
     "execution_count": 26,
     "metadata": {},
     "output_type": "execute_result"
    }
   ],
   "source": [
    "data1"
   ]
  },
  {
   "cell_type": "code",
   "execution_count": null,
   "metadata": {},
   "outputs": [],
   "source": []
  }
 ],
 "metadata": {
  "accelerator": "GPU",
  "colab": {
   "provenance": []
  },
  "gpuClass": "standard",
  "kernelspec": {
   "display_name": "Python 3",
   "language": "python",
   "name": "python3"
  },
  "language_info": {
   "codemirror_mode": {
    "name": "ipython",
    "version": 3
   },
   "file_extension": ".py",
   "mimetype": "text/x-python",
   "name": "python",
   "nbconvert_exporter": "python",
   "pygments_lexer": "ipython3",
   "version": "3.8.3"
  }
 },
 "nbformat": 4,
 "nbformat_minor": 1
}
